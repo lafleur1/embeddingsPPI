{
 "cells": [
  {
   "cell_type": "code",
   "execution_count": 1,
   "metadata": {},
   "outputs": [
    {
     "name": "stderr",
     "output_type": "stream",
     "text": [
      "Using TensorFlow backend.\n"
     ]
    },
    {
     "name": "stdout",
     "output_type": "stream",
     "text": [
      "WARNING:tensorflow:From /home/ubuntu/anaconda3/envs/MuPIPR_CLONE/lib/python3.6/site-packages/tensorflow_core/__init__.py:1467: The name tf.estimator.inputs is deprecated. Please use tf.compat.v1.estimator.inputs instead.\n",
      "\n"
     ]
    }
   ],
   "source": [
    "#eval PIPR on Fragoza pairs len <= 600 \n",
    "#running PIPR from here, shell script will not detect CUDA devices \n",
    "from __future__ import absolute_import\n",
    "from __future__ import division\n",
    "from __future__ import print_function\n",
    "\n",
    "\n",
    "import sys\n",
    "if '../../embeddings' not in sys.path:\n",
    "    sys.path.append('../../embeddings')\n",
    "\n",
    "from seq2tensor import s2t\n",
    "import keras\n",
    "\n",
    "from keras.models import Sequential, Model\n",
    "from keras.layers import Dense, Activation, Dropout, Embedding, LSTM, Bidirectional, BatchNormalization, add\n",
    "from keras.layers.core import Flatten, Reshape\n",
    "from keras.layers.merge import Concatenate, concatenate, subtract, multiply\n",
    "from keras.layers.convolutional import Conv1D\n",
    "from keras.layers.pooling import MaxPooling1D, AveragePooling1D, GlobalAveragePooling1D\n",
    "\n",
    "from keras.optimizers import Adam, RMSprop\n",
    "\n",
    "import os\n",
    "import tensorflow as tf\n",
    "import keras.backend.tensorflow_backend as KTF\n",
    "\n",
    "def get_session(gpu_fraction=0.2):\n",
    "    '''Assume that you have 6GB of GPU memory and want to allocate ~2GB'''\n",
    "\n",
    "    num_threads = os.environ.get('OMP_NUM_THREADS')\n",
    "    gpu_options = tf.GPUOptions(per_process_gpu_memory_fraction=gpu_fraction)\n",
    "\n",
    "    if num_threads:\n",
    "        return tf.Session(config=tf.ConfigProto(\n",
    "            gpu_options=gpu_options, intra_op_parallelism_threads=num_threads))\n",
    "    else:\n",
    "        return tf.Session(config=tf.ConfigProto(gpu_options=gpu_options))\n",
    "\n",
    "KTF.set_session(get_session())\n",
    "\n",
    "import numpy as np\n",
    "from tqdm import tqdm\n",
    "\n",
    "from keras.layers import Input, CuDNNGRU\n",
    "from numpy import linalg as LA\n",
    "import scipy"
   ]
  },
  {
   "cell_type": "code",
   "execution_count": 2,
   "metadata": {},
   "outputs": [],
   "source": [
    "# change\n",
    "id2seq_file = './FragozaSequencesML600.tsv'\n",
    "\n",
    "id2index = {}\n",
    "seqs = []\n",
    "index = 0\n",
    "for line in open(id2seq_file):\n",
    "    line = line.strip().split('\\t')\n",
    "    id2index[line[0]] = index\n",
    "    seqs.append(line[1])\n",
    "    index += 1\n",
    "seq_array = []\n",
    "id2_aid = {}\n",
    "sid = 0\n",
    "\n",
    "seq_size = 600\n",
    "emb_files = ['../../embeddings/default_onehot.txt', '../../embeddings/string_vec5.txt', '../../embeddings/CTCoding_onehot.txt', '../../embeddings/vec7_CTC.txt']\n",
    "use_emb = 0\n",
    "hidden_dim = 25\n",
    "n_epochs=50\n",
    "\n",
    "# ds_file, label_index, rst_file, use_emb, hidden_dim\n",
    "ds_file = '../../yest/preprocessed/Supp-AB.tsv'\n",
    "label_index = 2\n",
    "rst_file = 'results/15k_onehot_cnn.txt'\n",
    "sid1_index = 0\n",
    "sid2_index = 1\n",
    "'''\n",
    "if len(sys.argv) > 1:\n",
    "    ds_file, label_index, rst_file, use_emb, hidden_dim, n_epochs = sys.argv[1:]\n",
    "    label_index = int(label_index)\n",
    "    use_emb = int(use_emb)\n",
    "    hidden_dim = int(hidden_dim)\n",
    "    n_epochs = int(n_epochs)\n",
    "'''\n",
    "#manually set these for the three diff networks tested \n",
    "#../../../sun/preprocessed/Supp-AB.tsv -1 results/sun_wvctc_rcnn_25_5.txt 3 25 100\n",
    "#../../../sun/preprocessed/Supp-AB.tsv -1 results/sun_wvctc_rcnn_50_5.txt 3 50 100\n",
    "#../../../sun/preprocessed/Supp-AB.tsv -1 results/sun_wvctc_rcnn_75_5.txt 3 75 100\n",
    "#best from the paper was hiden dim 50 \n",
    "ds_file = \"./mtFragozaPIPR.tsv\"\n",
    "label_index = -1\n",
    "rst_file = \"results/sun_wvctc_rcnn_50_5.txt\"\n",
    "use_emb = 3\n",
    "hidden_dim = 50\n",
    "n_epochs = 50\n",
    "seq2t = s2t(emb_files[use_emb])"
   ]
  },
  {
   "cell_type": "code",
   "execution_count": 3,
   "metadata": {},
   "outputs": [
    {
     "name": "stderr",
     "output_type": "stream",
     "text": [
      "1064it [00:00, 199871.89it/s]\n",
      " 41%|████      | 432/1065 [00:00<00:00, 4309.50it/s]"
     ]
    },
    {
     "name": "stdout",
     "output_type": "stream",
     "text": [
      "1063\n",
      "2 1\n"
     ]
    },
    {
     "name": "stderr",
     "output_type": "stream",
     "text": [
      "100%|██████████| 1065/1065 [00:00<00:00, 4185.94it/s]\n",
      "100%|██████████| 1063/1063 [00:00<00:00, 777156.21it/s]\n",
      "100%|██████████| 1063/1063 [00:00<00:00, 899988.93it/s]"
     ]
    },
    {
     "name": "stdout",
     "output_type": "stream",
     "text": [
      "[ 0  2  4  6  6  8 10 11 12 13]\n",
      "{'0': 1, '1': 0}\n"
     ]
    },
    {
     "name": "stderr",
     "output_type": "stream",
     "text": [
      "\n"
     ]
    }
   ],
   "source": [
    "\n",
    "\n",
    "max_data = -1\n",
    "limit_data = max_data > 0\n",
    "raw_data = []\n",
    "skip_head = True\n",
    "x = None\n",
    "count = 0\n",
    "\n",
    "for line in tqdm(open(ds_file)):\n",
    "    if skip_head:\n",
    "        skip_head = False\n",
    "        continue\n",
    "    line = line.rstrip('\\n').rstrip('\\r').split('\\t')\n",
    "    if id2index.get(line[sid1_index]) is None or id2index.get(line[sid2_index]) is None:\n",
    "        continue\n",
    "    if id2_aid.get(line[sid1_index]) is None:\n",
    "        id2_aid[line[sid1_index]] = sid\n",
    "        sid += 1\n",
    "        seq_array.append(seqs[id2index[line[sid1_index]]])\n",
    "    line[sid1_index] = id2_aid[line[sid1_index]]\n",
    "    if id2_aid.get(line[sid2_index]) is None:\n",
    "        id2_aid[line[sid2_index]] = sid\n",
    "        sid += 1\n",
    "        seq_array.append(seqs[id2index[line[sid2_index]]])\n",
    "    line[sid2_index] = id2_aid[line[sid2_index]]\n",
    "    raw_data.append(line)\n",
    "    if limit_data:\n",
    "        count += 1\n",
    "        if count >= max_data:\n",
    "            break\n",
    "print (len(raw_data))\n",
    "\n",
    "\n",
    "len_m_seq = np.array([len(line.split()) for line in seq_array])\n",
    "avg_m_seq = int(np.average(len_m_seq)) + 1\n",
    "max_m_seq = max(len_m_seq)\n",
    "print (avg_m_seq, max_m_seq)\n",
    "\n",
    "dim = seq2t.dim\n",
    "seq_tensor = np.array([seq2t.embed_normalized(line, seq_size) for line in tqdm(seq_array)])\n",
    "\n",
    "seq_index1 = np.array([line[sid1_index] for line in tqdm(raw_data)])\n",
    "seq_index2 = np.array([line[sid2_index] for line in tqdm(raw_data)])\n",
    "\n",
    "print(seq_index1[:10])\n",
    "\n",
    "class_map = {'0':1,'1':0}\n",
    "print(class_map)\n",
    "class_labels = np.zeros((len(raw_data), 2))\n",
    "for i in range(len(raw_data)):\n",
    "    class_labels[i][class_map[raw_data[i][label_index]]] = 1.\n"
   ]
  },
  {
   "cell_type": "code",
   "execution_count": 4,
   "metadata": {},
   "outputs": [
    {
     "name": "stdout",
     "output_type": "stream",
     "text": [
      "WARNING:tensorflow:From /home/ubuntu/anaconda3/envs/MuPIPR_CLONE/lib/python3.6/site-packages/keras/backend/tensorflow_backend.py:517: The name tf.placeholder is deprecated. Please use tf.compat.v1.placeholder instead.\n",
      "\n",
      "WARNING:tensorflow:From /home/ubuntu/anaconda3/envs/MuPIPR_CLONE/lib/python3.6/site-packages/keras/backend/tensorflow_backend.py:4138: The name tf.random_uniform is deprecated. Please use tf.random.uniform instead.\n",
      "\n",
      "WARNING:tensorflow:From /home/ubuntu/anaconda3/envs/MuPIPR_CLONE/lib/python3.6/site-packages/keras/backend/tensorflow_backend.py:3976: The name tf.nn.max_pool is deprecated. Please use tf.nn.max_pool2d instead.\n",
      "\n",
      "WARNING:tensorflow:From /home/ubuntu/anaconda3/envs/MuPIPR_CLONE/lib/python3.6/site-packages/keras/backend/tensorflow_backend.py:174: The name tf.get_default_session is deprecated. Please use tf.compat.v1.get_default_session instead.\n",
      "\n",
      "WARNING:tensorflow:From /home/ubuntu/anaconda3/envs/MuPIPR_CLONE/lib/python3.6/site-packages/keras/backend/tensorflow_backend.py:190: The name tf.global_variables is deprecated. Please use tf.compat.v1.global_variables instead.\n",
      "\n",
      "WARNING:tensorflow:From /home/ubuntu/anaconda3/envs/MuPIPR_CLONE/lib/python3.6/site-packages/keras/backend/tensorflow_backend.py:199: The name tf.is_variable_initialized is deprecated. Please use tf.compat.v1.is_variable_initialized instead.\n",
      "\n",
      "WARNING:tensorflow:From /home/ubuntu/anaconda3/envs/MuPIPR_CLONE/lib/python3.6/site-packages/keras/backend/tensorflow_backend.py:206: The name tf.variables_initializer is deprecated. Please use tf.compat.v1.variables_initializer instead.\n",
      "\n",
      "WARNING:tensorflow:From /home/ubuntu/anaconda3/envs/MuPIPR_CLONE/lib/python3.6/site-packages/keras/optimizers.py:790: The name tf.train.Optimizer is deprecated. Please use tf.compat.v1.train.Optimizer instead.\n",
      "\n",
      "WARNING:tensorflow:From /home/ubuntu/anaconda3/envs/MuPIPR_CLONE/lib/python3.6/site-packages/keras/backend/tensorflow_backend.py:3295: The name tf.log is deprecated. Please use tf.math.log instead.\n",
      "\n",
      "WARNING:tensorflow:From /home/ubuntu/anaconda3/envs/MuPIPR_CLONE/lib/python3.6/site-packages/tensorflow_core/python/ops/math_grad.py:1424: where (from tensorflow.python.ops.array_ops) is deprecated and will be removed in a future version.\n",
      "Instructions for updating:\n",
      "Use tf.where in 2.0, which has the same broadcast rule as np.where\n",
      "WARNING:tensorflow:From /home/ubuntu/anaconda3/envs/MuPIPR_CLONE/lib/python3.6/site-packages/keras/backend/tensorflow_backend.py:986: The name tf.assign_add is deprecated. Please use tf.compat.v1.assign_add instead.\n",
      "\n",
      "WARNING:tensorflow:From /home/ubuntu/anaconda3/envs/MuPIPR_CLONE/lib/python3.6/site-packages/keras/backend/tensorflow_backend.py:973: The name tf.assign is deprecated. Please use tf.compat.v1.assign instead.\n",
      "\n"
     ]
    }
   ],
   "source": [
    "modelName = \"modelHiddenDims\" + str(hidden_dim) + \"fold0\"\n",
    "fold0PIPR =  keras.models.load_model(modelName)"
   ]
  },
  {
   "cell_type": "code",
   "execution_count": 5,
   "metadata": {},
   "outputs": [
    {
     "name": "stdout",
     "output_type": "stream",
     "text": [
      "(1063, 2)\n"
     ]
    }
   ],
   "source": [
    "print (class_labels.shape)\n",
    "test = np.array(list(range(0,len(class_labels))))\n",
    "#print (testInds)"
   ]
  },
  {
   "cell_type": "code",
   "execution_count": 6,
   "metadata": {},
   "outputs": [
    {
     "name": "stdout",
     "output_type": "stream",
     "text": [
      "0.7450611476952023 0.8206229860365198 0.880184331797235 0.21212121212121213 0.849360755975542 0.021112203702259223\n"
     ]
    }
   ],
   "source": [
    "#load Fragoza data \n",
    "num_hit = 0.\n",
    "num_total = 0.\n",
    "num_pos = 0.\n",
    "num_true_pos = 0.\n",
    "num_false_pos = 0.\n",
    "num_true_neg = 0.\n",
    "num_false_neg = 0.\n",
    "fold = 0\n",
    "pred = fold0PIPR.predict([seq_tensor[seq_index1[test]], seq_tensor[seq_index2[test]]])\n",
    "for i in range(len(class_labels[test])):\n",
    "    num_total += 1\n",
    "    if np.argmax(class_labels[test][i]) == np.argmax(pred[i]):\n",
    "        num_hit += 1\n",
    "    if class_labels[test][i][0] > 0.:\n",
    "        num_pos += 1.\n",
    "        if pred[i][0] > pred[i][1]:\n",
    "            num_true_pos += 1\n",
    "        else:\n",
    "            num_false_neg += 1\n",
    "    else:\n",
    "        if pred[i][0] > pred[i][1]:\n",
    "            num_false_pos += 1\n",
    "        else:\n",
    "            num_true_neg += 1\n",
    "accuracy = num_hit / num_total\n",
    "prec = num_true_pos / (num_true_pos + num_false_pos)\n",
    "recall = num_true_pos / num_pos\n",
    "spec = num_true_neg / (num_true_neg + num_false_neg)\n",
    "f1 = 2. * prec * recall / (prec + recall)\n",
    "mcc = (num_true_pos * num_true_neg - num_false_pos * num_false_neg) / ((num_true_pos + num_true_neg) * (num_true_pos + num_false_neg) * (num_false_pos + num_true_neg) * (num_false_pos + num_false_neg)) ** 0.5\n",
    "print (accuracy, prec, recall, spec, f1, mcc)\n",
    "\n"
   ]
  },
  {
   "cell_type": "code",
   "execution_count": 7,
   "metadata": {},
   "outputs": [
    {
     "name": "stdout",
     "output_type": "stream",
     "text": [
      "[[1.0000000e+00 3.0053610e-10]\n",
      " [1.0000000e+00 1.0533594e-08]\n",
      " [9.6786934e-01 3.2130618e-02]\n",
      " ...\n",
      " [9.9999976e-01 2.5332341e-07]\n",
      " [9.9990845e-01 9.1493377e-05]\n",
      " [9.9967754e-01 3.2246695e-04]]\n"
     ]
    }
   ],
   "source": [
    "print (pred)\n"
   ]
  },
  {
   "cell_type": "code",
   "execution_count": 8,
   "metadata": {},
   "outputs": [
    {
     "name": "stdout",
     "output_type": "stream",
     "text": [
      "764.0\n",
      "167.0\n",
      "28.0\n",
      "104.0\n",
      "[1.         1.         0.96786934 ... 0.99999976 0.99990845 0.99967754]\n",
      "[1. 1. 1. ... 1. 1. 1.]\n",
      "(array([0., 1.]), array([195, 868]))\n",
      "      Disruptive     Score\n",
      "0            1.0  1.000000\n",
      "1            1.0  1.000000\n",
      "2            1.0  0.967869\n",
      "3            0.0  0.999953\n",
      "4            0.0  0.954582\n",
      "5            1.0  0.005917\n",
      "6            1.0  0.007786\n",
      "7            1.0  0.004826\n",
      "8            0.0  0.007742\n",
      "9            1.0  0.983250\n",
      "10           1.0  0.987249\n",
      "11           1.0  0.983660\n",
      "12           1.0  0.990448\n",
      "13           1.0  0.000473\n",
      "14           0.0  0.999998\n",
      "15           1.0  0.999967\n",
      "16           1.0  0.999936\n",
      "17           0.0  0.999986\n",
      "18           0.0  0.999989\n",
      "19           1.0  0.999989\n",
      "20           1.0  0.999983\n",
      "21           0.0  0.999987\n",
      "22           1.0  0.999998\n",
      "23           1.0  0.999994\n",
      "24           1.0  0.999999\n",
      "25           1.0  0.999998\n",
      "26           1.0  0.999997\n",
      "27           0.0  0.999997\n",
      "28           1.0  0.999999\n",
      "29           1.0  0.999998\n",
      "...          ...       ...\n",
      "1033         1.0  1.000000\n",
      "1034         1.0  1.000000\n",
      "1035         1.0  1.000000\n",
      "1036         1.0  1.000000\n",
      "1037         1.0  0.999990\n",
      "1038         0.0  0.999963\n",
      "1039         1.0  0.999973\n",
      "1040         1.0  0.999952\n",
      "1041         1.0  0.954094\n",
      "1042         1.0  0.999999\n",
      "1043         1.0  1.000000\n",
      "1044         1.0  1.000000\n",
      "1045         1.0  1.000000\n",
      "1046         1.0  0.704489\n",
      "1047         1.0  0.382021\n",
      "1048         1.0  0.999996\n",
      "1049         1.0  0.998609\n",
      "1050         0.0  0.999454\n",
      "1051         0.0  1.000000\n",
      "1052         0.0  0.900523\n",
      "1053         0.0  0.999889\n",
      "1054         0.0  0.999993\n",
      "1055         1.0  1.000000\n",
      "1056         0.0  1.000000\n",
      "1057         0.0  1.000000\n",
      "1058         0.0  0.999995\n",
      "1059         1.0  1.000000\n",
      "1060         1.0  1.000000\n",
      "1061         1.0  0.999908\n",
      "1062         1.0  0.999678\n",
      "\n",
      "[1063 rows x 2 columns]\n"
     ]
    }
   ],
   "source": [
    "print (num_true_pos)\n",
    "print (num_false_pos)\n",
    "print (num_true_neg)\n",
    "print (num_false_neg)\n",
    "\n",
    "#true is 868, 195\n",
    "#making pr curve for one class? \n",
    "trueClass = pred[:,0]\n",
    "print (trueClass)\n",
    "\n",
    "print (class_labels[:,0])\n",
    "print (np.unique(class_labels[:,0], return_counts=True))\n",
    "\n",
    "#trying to make AUC ROC curve for proposal\n",
    "trueOnesLabels = class_labels[:,0]\n",
    "trueClass = pred[:,0]\n",
    "\n",
    "#makde pandas df \n",
    "import pandas as pd\n",
    "asDF = pd.DataFrame({'Disruptive':trueOnesLabels,'Score':trueClass})\n",
    "\n",
    "print (asDF)\n",
    "from sklearn import metrics\n",
    "\n",
    "\n"
   ]
  },
  {
   "cell_type": "code",
   "execution_count": 9,
   "metadata": {},
   "outputs": [
    {
     "data": {
      "text/plain": [
       "<matplotlib.axes._subplots.AxesSubplot at 0x7f87b0fbb828>"
      ]
     },
     "execution_count": 9,
     "metadata": {},
     "output_type": "execute_result"
    }
   ],
   "source": [
    "#ROC curve \n",
    "import seaborn as sns \n",
    "fpr, tpr, thresholds = metrics.roc_curve(trueOnesLabels, trueClass)\n",
    "#print (thresholds)\n",
    "score = metrics.roc_auc_score(trueOnesLabels, trueClass)\n",
    "sns.lineplot(x = fpr, y = tpr)"
   ]
  },
  {
   "cell_type": "code",
   "execution_count": 10,
   "metadata": {},
   "outputs": [
    {
     "name": "stdout",
     "output_type": "stream",
     "text": [
      "      Disruptive     Score                   Variant PPI Effect\n",
      "0            1.0  1.000000      Disruptive Mutations \\n (n=195)\n",
      "1            1.0  1.000000      Disruptive Mutations \\n (n=195)\n",
      "2            1.0  0.967869      Disruptive Mutations \\n (n=195)\n",
      "3            0.0  0.999953  Non-disruptive Mutations \\n (n=868)\n",
      "4            0.0  0.954582  Non-disruptive Mutations \\n (n=868)\n",
      "5            1.0  0.005917      Disruptive Mutations \\n (n=195)\n",
      "6            1.0  0.007786      Disruptive Mutations \\n (n=195)\n",
      "7            1.0  0.004826      Disruptive Mutations \\n (n=195)\n",
      "8            0.0  0.007742  Non-disruptive Mutations \\n (n=868)\n",
      "9            1.0  0.983250      Disruptive Mutations \\n (n=195)\n",
      "10           1.0  0.987249      Disruptive Mutations \\n (n=195)\n",
      "11           1.0  0.983660      Disruptive Mutations \\n (n=195)\n",
      "12           1.0  0.990448      Disruptive Mutations \\n (n=195)\n",
      "13           1.0  0.000473      Disruptive Mutations \\n (n=195)\n",
      "14           0.0  0.999998  Non-disruptive Mutations \\n (n=868)\n",
      "15           1.0  0.999967      Disruptive Mutations \\n (n=195)\n",
      "16           1.0  0.999936      Disruptive Mutations \\n (n=195)\n",
      "17           0.0  0.999986  Non-disruptive Mutations \\n (n=868)\n",
      "18           0.0  0.999989  Non-disruptive Mutations \\n (n=868)\n",
      "19           1.0  0.999989      Disruptive Mutations \\n (n=195)\n",
      "20           1.0  0.999983      Disruptive Mutations \\n (n=195)\n",
      "21           0.0  0.999987  Non-disruptive Mutations \\n (n=868)\n",
      "22           1.0  0.999998      Disruptive Mutations \\n (n=195)\n",
      "23           1.0  0.999994      Disruptive Mutations \\n (n=195)\n",
      "24           1.0  0.999999      Disruptive Mutations \\n (n=195)\n",
      "25           1.0  0.999998      Disruptive Mutations \\n (n=195)\n",
      "26           1.0  0.999997      Disruptive Mutations \\n (n=195)\n",
      "27           0.0  0.999997  Non-disruptive Mutations \\n (n=868)\n",
      "28           1.0  0.999999      Disruptive Mutations \\n (n=195)\n",
      "29           1.0  0.999998      Disruptive Mutations \\n (n=195)\n",
      "...          ...       ...                                  ...\n",
      "1033         1.0  1.000000      Disruptive Mutations \\n (n=195)\n",
      "1034         1.0  1.000000      Disruptive Mutations \\n (n=195)\n",
      "1035         1.0  1.000000      Disruptive Mutations \\n (n=195)\n",
      "1036         1.0  1.000000      Disruptive Mutations \\n (n=195)\n",
      "1037         1.0  0.999990      Disruptive Mutations \\n (n=195)\n",
      "1038         0.0  0.999963  Non-disruptive Mutations \\n (n=868)\n",
      "1039         1.0  0.999973      Disruptive Mutations \\n (n=195)\n",
      "1040         1.0  0.999952      Disruptive Mutations \\n (n=195)\n",
      "1041         1.0  0.954094      Disruptive Mutations \\n (n=195)\n",
      "1042         1.0  0.999999      Disruptive Mutations \\n (n=195)\n",
      "1043         1.0  1.000000      Disruptive Mutations \\n (n=195)\n",
      "1044         1.0  1.000000      Disruptive Mutations \\n (n=195)\n",
      "1045         1.0  1.000000      Disruptive Mutations \\n (n=195)\n",
      "1046         1.0  0.704489      Disruptive Mutations \\n (n=195)\n",
      "1047         1.0  0.382021      Disruptive Mutations \\n (n=195)\n",
      "1048         1.0  0.999996      Disruptive Mutations \\n (n=195)\n",
      "1049         1.0  0.998609      Disruptive Mutations \\n (n=195)\n",
      "1050         0.0  0.999454  Non-disruptive Mutations \\n (n=868)\n",
      "1051         0.0  1.000000  Non-disruptive Mutations \\n (n=868)\n",
      "1052         0.0  0.900523  Non-disruptive Mutations \\n (n=868)\n",
      "1053         0.0  0.999889  Non-disruptive Mutations \\n (n=868)\n",
      "1054         0.0  0.999993  Non-disruptive Mutations \\n (n=868)\n",
      "1055         1.0  1.000000      Disruptive Mutations \\n (n=195)\n",
      "1056         0.0  1.000000  Non-disruptive Mutations \\n (n=868)\n",
      "1057         0.0  1.000000  Non-disruptive Mutations \\n (n=868)\n",
      "1058         0.0  0.999995  Non-disruptive Mutations \\n (n=868)\n",
      "1059         1.0  1.000000      Disruptive Mutations \\n (n=195)\n",
      "1060         1.0  1.000000      Disruptive Mutations \\n (n=195)\n",
      "1061         1.0  0.999908      Disruptive Mutations \\n (n=195)\n",
      "1062         1.0  0.999678      Disruptive Mutations \\n (n=195)\n",
      "\n",
      "[1063 rows x 3 columns]\n",
      "1.0\n"
     ]
    },
    {
     "data": {
      "image/png": "[encoded data removed]",
      "text/plain": [
       "<Figure size 432x288 with 1 Axes>"
      ]
     },
     "metadata": {
      "needs_background": "light"
     },
     "output_type": "display_data"
    }
   ],
   "source": [
    "#scatter plot \n",
    "sns.scatterplot(x = 'Disruptive', y = 'Score', data =asDF )\n",
    "\n",
    "def sortDis(val):\n",
    "    if val == 1.0:\n",
    "        return \"Disruptive Mutations \\n (n=195)\"\n",
    "    else:\n",
    "        return \"Non-disruptive Mutations \\n (n=868)\"\n",
    "asDF['Variant PPI Effect'] = asDF.apply(lambda row: sortDis(row['Disruptive']), axis = 1)\n",
    "\n",
    "print (asDF)\n",
    "#violin plot \n",
    "ax = sns.violinplot(x=\"Variant PPI Effect\", y=\"Score\", data=asDF, cut = 0).set_title(\"MuPIPR variant PPI ddG predictions\")\n",
    "print (max(asDF['Score'].to_list()))\n",
    "\n",
    "def classifier(score):\n",
    "    if score >= 0.5:\n",
    "        return 1\n",
    "    else:\n",
    "        return 0 \n",
    "asDF['Predlabel'] = asDF.apply(lambda row: classifier(row['Score']), axis = 1)\n",
    "\n",
    "    "
   ]
  },
  {
   "cell_type": "code",
   "execution_count": 11,
   "metadata": {},
   "outputs": [
    {
     "name": "stdout",
     "output_type": "stream",
     "text": [
      "[[ 28 167]\n",
      " [104 764]]\n"
     ]
    },
    {
     "data": {
      "text/plain": [
       "<matplotlib.axes._subplots.AxesSubplot at 0x7f87b0a542b0>"
      ]
     },
     "execution_count": 11,
     "metadata": {},
     "output_type": "execute_result"
    },
    {
     "data": {
      "image/png": "[encoded data removed]",
      "text/plain": [
       "<Figure size 432x288 with 2 Axes>"
      ]
     },
     "metadata": {
      "needs_background": "light"
     },
     "output_type": "display_data"
    }
   ],
   "source": [
    "from sklearn.linear_model import LogisticRegression\n",
    "from sklearn.metrics import confusion_matrix\n",
    "#F\n",
    "cf_matrix = metrics.confusion_matrix(asDF['Disruptive'], asDF['Predlabel'])\n",
    "print(cf_matrix)\n",
    "'''\n",
    "\n",
    "764.0\n",
    "167.0\n",
    "28.0\n",
    "104.0\n",
    "'''\n",
    "#sns.heatmap(cf_matrix, annot=True)\n",
    "\n",
    "sns.heatmap(cf_matrix/np.sum(cf_matrix), annot=True, \n",
    "            fmt='.2%', cmap='Blues')"
   ]
  },
  {
   "cell_type": "code",
   "execution_count": 12,
   "metadata": {},
   "outputs": [
    {
     "data": {
      "text/plain": [
       "Text(0.5, 1, 'PIPR Prediction of PPI Disrupting Variants')"
      ]
     },
     "execution_count": 12,
     "metadata": {},
     "output_type": "execute_result"
    },
    {
     "data": {
      "image/png": "[encoded data removed]",
      "text/plain": [
       "<Figure size 432x288 with 2 Axes>"
      ]
     },
     "metadata": {
      "needs_background": "light"
     },
     "output_type": "display_data"
    }
   ],
   "source": [
    "group_names = ['True Disruptive','False Non-Disruptive','False Disruptive','True Non-Disruptive']\n",
    "group_counts = [\"{0:0.0f}\".format(value) for value in cf_matrix.flatten()]\n",
    "group_percentages = [\"{0:.2%}\".format(value) for value in cf_matrix.flatten()/np.sum(cf_matrix)]\n",
    "labels = [f\"{v1}\\n{v2}\\n{v3}\" for v1, v2, v3 in\n",
    "          zip(group_names,group_counts,group_percentages)]\n",
    "labels = np.asarray(labels).reshape(2,2)\n",
    "sns.heatmap(cf_matrix, annot=labels, fmt='', cmap='Blues').set_title(\"PIPR Prediction of PPI Disrupting Variants\")"
   ]
  },
  {
   "cell_type": "code",
   "execution_count": 14,
   "metadata": {},
   "outputs": [
    {
     "data": {
      "image/png": "[encoded data removed]",
      "text/plain": [
       "<Figure size 432x288 with 1 Axes>"
      ]
     },
     "metadata": {},
     "output_type": "display_data"
    }
   ],
   "source": [
    "import matplotlib.pyplot as plt\n",
    "sns.set(font=\"Times New Roman\")\n",
    "group_names = ['True Disruptive','False Non-Disruptive','False Disruptive','True Non-Disruptive']\n",
    "group_counts = [\"{0:0.0f}\".format(value) for value in cf_matrix.flatten()]\n",
    "group_percentages = [\"{0:.2%}\".format(value) for value in cf_matrix.flatten()/np.sum(cf_matrix)]\n",
    "labels = [f\"{v1}\\n{v2}\" for v1, v2 in\n",
    "          zip(group_names,group_counts)]\n",
    "labels = np.asarray(labels).reshape(2,2)\n",
    "sns.heatmap(cf_matrix, annot=labels, annot_kws={\"size\": 11}, fmt='', cbar = False, cmap='Blues').set_title(\"CNN Prediction of PPI Disrupting Variants\", fontsize=11)\n",
    "plt.savefig(\"piprNetworkTakeTwo.png\", dpi=300)"
   ]
  },
  {
   "cell_type": "code",
   "execution_count": null,
   "metadata": {},
   "outputs": [],
   "source": []
  }
 ],
 "metadata": {
  "kernelspec": {
   "display_name": "Environment (conda_mupipr_clone)",
   "language": "python",
   "name": "conda_mupipr_clone"
  },
  "language_info": {
   "codemirror_mode": {
    "name": "ipython",
    "version": 3
   },
   "file_extension": ".py",
   "mimetype": "text/x-python",
   "name": "python",
   "nbconvert_exporter": "python",
   "pygments_lexer": "ipython3",
   "version": "3.6.6"
  }
 },
 "nbformat": 4,
 "nbformat_minor": 2
}
