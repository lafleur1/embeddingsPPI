{
 "cells": [
  {
   "cell_type": "code",
   "execution_count": 1,
   "metadata": {},
   "outputs": [],
   "source": [
    "#stuck using colab for experiments for now- oregon is broke :(\n",
    "import torch\n",
    "from tape import ProteinBertModel, TAPETokenizer\n",
    "#unirep\n",
    "from tape import UniRepModel\n",
    "#getting the sweet, sweet < 2K AA proteins to use for the TAPE embeddings\n",
    "import string\n",
    "import pandas as pd\n",
    "import seaborn as sns\n",
    "import matplotlib.pyplot as plt\n",
    "import pandas as pd\n",
    "import numpy as np\n",
    "from scipy.signal import find_peaks\n",
    "import re\n",
    "from urllib.request import urlopen\n",
    "from Bio import SeqIO\n",
    "from Bio.Seq import Seq\n",
    "from Bio.SeqRecord import SeqRecord\n",
    "\n",
    "from io import TextIOWrapper\n",
    "import time\n",
    "import os.path\n",
    "import matplotlib.pyplot as plt\n",
    "from os import path\n",
    "from queue import PriorityQueue\n",
    "from itertools import combinations\n",
    "from numpy.random import choice\n",
    "import random\n",
    "import sqlite3\n",
    "\n",
    "import matplotlib.pyplot as plt\n",
    "from mpl_toolkits.mplot3d import Axes3D"
   ]
  },
  {
   "cell_type": "code",
   "execution_count": 2,
   "metadata": {},
   "outputs": [
    {
     "name": "stdout",
     "output_type": "stream",
     "text": [
      "                 0                                                  1\n",
      "0      84069_R539P  MGNSHCVPQAPRRLRASFSRKPSLKGNREDSARMSAGLPGPEAARS...\n",
      "1            84069  MGNSHCVPQAPRRLRASFSRKPSLKGNREDSARMSAGLPGPEAARS...\n",
      "2      65220_R249W  MEMEQEKMTMNKELSPDAAAYCCSACHGDETWSYNHPIRGRAKSRS...\n",
      "3            65220  MEMEQEKMTMNKELSPDAAAYCCSACHGDETWSYNHPIRGRAKSRS...\n",
      "4     339448_V195M  MRSRKLTGAVRSSARLKARSCSAARLASAQEVAGSTSAKTACLTSS...\n",
      "5           339448  MRSRKLTGAVRSSARLKARSCSAARLASAQEVAGSTSAKTACLTSS...\n",
      "6     339448_R131C  MRSRKLTGAVRSSARLKARSCSAARLASAQEVAGSTSAKTACLTSS...\n",
      "7      339448_S82A  MRSRKLTGAVRSSARLKARSCSAARLASAQEVAGSTSAKTACLTSS...\n",
      "8      339448_A81T  MRSRKLTGAVRSSARLKARSCSAARLASAQEVAGSTSAKTACLTSS...\n",
      "9       64802_A13T  MENSEKTEVVLLTCGSFNPITNMHLRLFELAKDYMNGTGRYTVVKG...\n",
      "10           64802  MENSEKTEVVLLACGSFNPITNMHLRLFELAKDYMNGTGRYTVVKG...\n",
      "11      64802_R66W  MENSEKTEVVLLACGSFNPITNMHLRLFELAKDYMNGTGRYTVVKG...\n",
      "12      6723_V230M  MEPGPDGPAASGPAAIREGWFRETCSLWPGQALSLQVEQLLHHRRS...\n",
      "13            6723  MEPGPDGPAASGPAAIREGWFRETCSLWPGQALSLQVEQLLHHRRS...\n",
      "14      6723_R221Q  MEPGPDGPAASGPAAIREGWFRETCSLWPGQALSLQVEQLLHHRRS...\n",
      "15      6723_E219K  MEPGPDGPAASGPAAIREGWFRETCSLWPGQALSLQVEQLLHHRRS...\n",
      "16       6723_E73Q  MEPGPDGPAASGPAAIREGWFRETCSLWPGQALSLQVEQLLHHRRS...\n",
      "17     60672_R171C  MVEAEELAQLRLLNLELLRQLWVGQDAVRRSVARAASESSLESSSS...\n",
      "18           60672  MVEAEELAQLRLLNLELLRQLWVGQDAVRRSVARAASESSLESSSS...\n",
      "19     55092_R146W  MMAQSKANGSHYALTAIGLGMLVLGVIMAMWNLVPGFSAAEKPTAQ...\n",
      "20           55092  MMAQSKANGSHYALTAIGLGMLVLGVIMAMWNLVPGFSAAEKPTAQ...\n",
      "21     55092_P159S  MMAQSKANGSHYALTAIGLGMLVLGVIMAMWNLVPGFSAAEKPTAQ...\n",
      "22     55092_D188G  MMAQSKANGSHYALTAIGLGMLVLGVIMAMWNLVPGFSAAEKPTAQ...\n",
      "23     55092_P237L  MMAQSKANGSHYALTAIGLGMLVLGVIMAMWNLVPGFSAAEKPTAQ...\n",
      "24       842_T366N  MDEADRRLLRRCRLRLVEELQVDQLWDALLSRELFRPHMIEDIQRA...\n",
      "25             842  MDEADRRLLRRCRLRLVEELQVDQLWDALLSRELFRPHMIEDIQRA...\n",
      "26       842_P336S  MDEADRRLLRRCRLRLVEELQVDQLWDALLSRELFRPHMIEDIQRA...\n",
      "27       842_H237P  MDEADRRLLRRCRLRLVEELQVDQLWDALLSRELFRPHMIEDIQRA...\n",
      "28       842_Q221R  MDEADRRLLRRCRLRLVEELQVDQLWDALLSRELFRPHMIEDIQRA...\n",
      "29       842_R178C  MDEADRRLLRRCRLRLVEELQVDQLWDALLSRELFRPHMIEDIQRA...\n",
      "...            ...                                                ...\n",
      "3237          4920  MARGSALPRRPLLCIPAVWAAAALLLSVSRTSGEVEVLDPNDPLGP...\n",
      "3238         25913  MSLVPATNYIYTPLNQLKGGTIVNVYGVVKFFKPPYLSKGTDYCSV...\n",
      "3239         83755  MVNSCCGSVCSDQGCGLENCCRPSCCQTTCCRTTCCRPSCCVSSCC...\n",
      "3240         23658  MAANATTNPSQLLPLELVDKCIGSRIHIVMKSDKEIVGTLLGFDDF...\n",
      "3241          3149  MAKGDPKKPKGKMSAYAFFVQTCREEHKKKNPEVPVNFAEFSKKCS...\n",
      "3242         10256  MEPVETWTPGKVATWLRGLDDSLQDYPFEDWQLPGKNLLQLCPQSL...\n",
      "3243         54458  MWNPNAGQPGPNPYPPNIGCPGGSNPAHPPPINPPFPPGPCPPPPG...\n",
      "3244          6999  MSGCPFLGNNFGYTFKKLPVEGSEEDKSQTGVNRASKGGLIYGNYL...\n",
      "3245        284194  MAFSGSQAPYLSPAVPFSGTIQGGLQDGFQITVNGAVLSSSGTRFA...\n",
      "3246         55388  MDEEEDNLSLLTALLEENESALDCNSEENNFLTRENGEPDAFDELF...\n",
      "3247         54585  MAELGLNEHHQNEVINYMRFARSKRGLRLKTVDSCFQDLKESRLVE...\n",
      "3248         56259  MDVGELLSYQPNRGTKRPRDDEEEEQKMRRKQTGTRERGRYREEEM...\n",
      "3249         55143  MAPRKGSSRVAKTNSLRRRKLASFLKDFDREVEIRIKQIESDRQNL...\n",
      "3250          1641  MELDFGHFDERDKTSRNMRGSRMNGLPSPTHSAHCSFYRTRTLQAL...\n",
      "3251         51438  MPPVPGVPFRNVDNDSPTSVELEDWVDAQHPTDEEEEEASSASSTL...\n",
      "3252          1610  MRVVVIGAGVIGLSTALCIHERYHSVLQPLDIKVYADRFTPLTTTD...\n",
      "3253          8890  MAAVAVAVREDSGSGMKAELPPGPGAVGREMTKEEKLQLRKEKKQQ...\n",
      "3254           767  MADLSFIEDTVAFPEKEEDEEEEEEGVEWGYEEGVEWGLVFPDANG...\n",
      "3255          7690  MEAEETMECLQEFPEHHKMILDRLNEQREQDRFTDITLIVDGHHFK...\n",
      "3256         10597  MSGSFYFVIVGHHDNPVFEMEFLPAGKAESKDDHRHLNQFIAHAAL...\n",
      "3257        285733  MLSKGRSPRRKQVQTQRKAALVLSVTPMVPVGSVWLAMSSVLSAFM...\n",
      "3258        145946  MAPAGMSGAQDNSCLYQEIAPSFQRLPCPRTSSRHFSEAMTCPCGW...\n",
      "3259        440184  MTSGANSSGSYLPSEIRSSKIDDNYLKELNEDLKLRKQELLEMLKP...\n",
      "3260        440321  MAEETRQSKLAAAKRKLKEYWQRNSPGVPAGAKRNRKTNGSIHETA...\n",
      "3261          9753  MASTWAIQAHMDQDEPLEVKIEEEKYTTRQDWDLRKNNTHSREVFR...\n",
      "3262        122183  MEEPRPSKRLRSMAPNQASGGPPPEPGCCVADPEGSVEADGPAQPA...\n",
      "3263        441521  MTDKTEKVAVDPETVFKRPRECDSPSYQKRQRMALLARKQGAGDSL...\n",
      "3264          1409  MDVTIQHPWFKRTLGPFYPSRLFDQFFGEGLFEYDLLPFLSSTISP...\n",
      "3265         51207  MAETSLPELGGEDKATPCPSILELEELLRAGKSSCSRVDEVWPNLF...\n",
      "3266          9465  MERPEAGGINSNECENVSRKKKMSEEFEANTMDSLVDMPFATVDIQ...\n",
      "\n",
      "[3267 rows x 2 columns]\n"
     ]
    }
   ],
   "source": [
    "#open the csv\n",
    "fragoza_seqs = pd.read_csv( \"FragozaSequencesMaxLen2000.tab\", sep = \"\\t\", header = None)\n",
    "print (fragoza_seqs)"
   ]
  },
  {
   "cell_type": "code",
   "execution_count": 21,
   "metadata": {},
   "outputs": [
    {
     "data": {
      "text/plain": [
       "DataParallel(\n",
       "  (module): UniRepModel(\n",
       "    (embed_matrix): Embedding(26, 10)\n",
       "    (encoder): mLSTM(\n",
       "      (mlstm_cell): mLSTMCell(\n",
       "        (wmx): Linear(in_features=10, out_features=1900, bias=False)\n",
       "        (wmh): Linear(in_features=1900, out_features=1900, bias=False)\n",
       "        (wx): Linear(in_features=10, out_features=7600, bias=False)\n",
       "        (wh): Linear(in_features=1900, out_features=7600, bias=True)\n",
       "      )\n",
       "    )\n",
       "  )\n",
       ")"
      ]
     },
     "execution_count": 21,
     "metadata": {},
     "output_type": "execute_result"
    }
   ],
   "source": [
    "unirep_model = UniRepModel.from_pretrained('babbler-1900')\n",
    "unirep_model = torch.nn.DataParallel(unirep_model, device_ids=list(range(torch.cuda.device_count())))\n",
    "unirep_tokenizer = TAPETokenizer(vocab='unirep')\n",
    "unirep_model.to(f'cuda:{unirep_model.device_ids[0]}')\n"
   ]
  },
  {
   "cell_type": "code",
   "execution_count": 22,
   "metadata": {},
   "outputs": [],
   "source": [
    "\n",
    "device = torch.device(\"cuda\" if torch.cuda.is_available() else \"cpu\")\n",
    "\n",
    "def getUniRepPooledSequence(sequence, model = unirep_model, tokenizer = unirep_tokenizer):\n",
    "    #return\n",
    "    #model = UniRepModel.from_pretrained('babbler-1900')\n",
    "    #tokenizer = TAPETokenizer(vocab='unirep')\n",
    "    token_ids = torch.tensor([tokenizer.encode(sequence)])\n",
    "    token_ids = token_ids.to(f'cuda:{model.device_ids[0]}')\n",
    "    output = model(token_ids)\n",
    "    return output[1]\n",
    "\n",
    "\n",
    "def createReps2(table):\n",
    "    for ind, row in table.iterrows():\n",
    "      #for each wt and mt value \n",
    "      print (\"On \", ind, \" out of \", table.shape)\n",
    "      name = row[0]\n",
    "      seq = row[1]\n",
    "      print(\"seq: \", name, \" len seq: \", len(seq))\n",
    "      if not path.exists(\"./unirep_fragoza/\" + str(name) + \".npy\"):\n",
    "        meanS1 = getUniRepPooledSequence(seq).cpu().detach().numpy()\n",
    "        #print(meanS1.shape)\n",
    "        #print (type(meanS1))\n",
    "        #save npy file to the folder \n",
    "        np.save(\"./unirep_fragoza/\" + str(name) + \".npy\", meanS1)\n",
    "        print (\"bert done\")\n"
   ]
  },
  {
   "cell_type": "code",
   "execution_count": 23,
   "metadata": {},
   "outputs": [
    {
     "name": "stdout",
     "output_type": "stream",
     "text": [
      "On  0  out of  (3267, 2)\n",
      "seq:  84069_R539P  len seq:  576\n"
     ]
    },
    {
     "ename": "RuntimeError",
     "evalue": "NCCL Error 2: unhandled system error",
     "output_type": "error",
     "traceback": [
      "\u001b[0;31m---------------------------------------------------------------------------\u001b[0m",
      "\u001b[0;31mRuntimeError\u001b[0m                              Traceback (most recent call last)",
      "\u001b[0;32m<ipython-input-23-8c0caec31b11>\u001b[0m in \u001b[0;36m<module>\u001b[0;34m()\u001b[0m\n\u001b[0;32m----> 1\u001b[0;31m \u001b[0mcreateReps2\u001b[0m\u001b[0;34m(\u001b[0m\u001b[0mfragoza_seqs\u001b[0m\u001b[0;34m)\u001b[0m\u001b[0;34m\u001b[0m\u001b[0m\n\u001b[0m",
      "\u001b[0;32m<ipython-input-22-07d03ff93f51>\u001b[0m in \u001b[0;36mcreateReps2\u001b[0;34m(table)\u001b[0m\n\u001b[1;32m     20\u001b[0m       \u001b[0mprint\u001b[0m\u001b[0;34m(\u001b[0m\u001b[0;34m\"seq: \"\u001b[0m\u001b[0;34m,\u001b[0m \u001b[0mname\u001b[0m\u001b[0;34m,\u001b[0m \u001b[0;34m\" len seq: \"\u001b[0m\u001b[0;34m,\u001b[0m \u001b[0mlen\u001b[0m\u001b[0;34m(\u001b[0m\u001b[0mseq\u001b[0m\u001b[0;34m)\u001b[0m\u001b[0;34m)\u001b[0m\u001b[0;34m\u001b[0m\u001b[0m\n\u001b[1;32m     21\u001b[0m       \u001b[0;32mif\u001b[0m \u001b[0;32mnot\u001b[0m \u001b[0mpath\u001b[0m\u001b[0;34m.\u001b[0m\u001b[0mexists\u001b[0m\u001b[0;34m(\u001b[0m\u001b[0;34m\"./unirep_fragoza/\"\u001b[0m \u001b[0;34m+\u001b[0m \u001b[0mstr\u001b[0m\u001b[0;34m(\u001b[0m\u001b[0mname\u001b[0m\u001b[0;34m)\u001b[0m \u001b[0;34m+\u001b[0m \u001b[0;34m\".npy\"\u001b[0m\u001b[0;34m)\u001b[0m\u001b[0;34m:\u001b[0m\u001b[0;34m\u001b[0m\u001b[0m\n\u001b[0;32m---> 22\u001b[0;31m         \u001b[0mmeanS1\u001b[0m \u001b[0;34m=\u001b[0m \u001b[0mgetUniRepPooledSequence\u001b[0m\u001b[0;34m(\u001b[0m\u001b[0mseq\u001b[0m\u001b[0;34m)\u001b[0m\u001b[0;34m.\u001b[0m\u001b[0mcpu\u001b[0m\u001b[0;34m(\u001b[0m\u001b[0;34m)\u001b[0m\u001b[0;34m.\u001b[0m\u001b[0mdetach\u001b[0m\u001b[0;34m(\u001b[0m\u001b[0;34m)\u001b[0m\u001b[0;34m.\u001b[0m\u001b[0mnumpy\u001b[0m\u001b[0;34m(\u001b[0m\u001b[0;34m)\u001b[0m\u001b[0;34m\u001b[0m\u001b[0m\n\u001b[0m\u001b[1;32m     23\u001b[0m         \u001b[0;31m#print(meanS1.shape)\u001b[0m\u001b[0;34m\u001b[0m\u001b[0;34m\u001b[0m\u001b[0m\n\u001b[1;32m     24\u001b[0m         \u001b[0;31m#print (type(meanS1))\u001b[0m\u001b[0;34m\u001b[0m\u001b[0;34m\u001b[0m\u001b[0m\n",
      "\u001b[0;32m<ipython-input-22-07d03ff93f51>\u001b[0m in \u001b[0;36mgetUniRepPooledSequence\u001b[0;34m(sequence, model, tokenizer)\u001b[0m\n\u001b[1;32m      8\u001b[0m     \u001b[0mtoken_ids\u001b[0m \u001b[0;34m=\u001b[0m \u001b[0mtorch\u001b[0m\u001b[0;34m.\u001b[0m\u001b[0mtensor\u001b[0m\u001b[0;34m(\u001b[0m\u001b[0;34m[\u001b[0m\u001b[0mtokenizer\u001b[0m\u001b[0;34m.\u001b[0m\u001b[0mencode\u001b[0m\u001b[0;34m(\u001b[0m\u001b[0msequence\u001b[0m\u001b[0;34m)\u001b[0m\u001b[0;34m]\u001b[0m\u001b[0;34m)\u001b[0m\u001b[0;34m\u001b[0m\u001b[0m\n\u001b[1;32m      9\u001b[0m     \u001b[0mtoken_ids\u001b[0m \u001b[0;34m=\u001b[0m \u001b[0mtoken_ids\u001b[0m\u001b[0;34m.\u001b[0m\u001b[0mto\u001b[0m\u001b[0;34m(\u001b[0m\u001b[0;34mf'cuda:{model.device_ids[0]}'\u001b[0m\u001b[0;34m)\u001b[0m\u001b[0;34m\u001b[0m\u001b[0m\n\u001b[0;32m---> 10\u001b[0;31m     \u001b[0moutput\u001b[0m \u001b[0;34m=\u001b[0m \u001b[0mmodel\u001b[0m\u001b[0;34m(\u001b[0m\u001b[0mtoken_ids\u001b[0m\u001b[0;34m)\u001b[0m\u001b[0;34m\u001b[0m\u001b[0m\n\u001b[0m\u001b[1;32m     11\u001b[0m     \u001b[0;32mreturn\u001b[0m \u001b[0moutput\u001b[0m\u001b[0;34m[\u001b[0m\u001b[0;36m1\u001b[0m\u001b[0;34m]\u001b[0m\u001b[0;34m\u001b[0m\u001b[0m\n\u001b[1;32m     12\u001b[0m \u001b[0;34m\u001b[0m\u001b[0m\n",
      "\u001b[0;32m~/anaconda3/envs/structuralPPI/lib/python3.6/site-packages/torch/nn/modules/module.py\u001b[0m in \u001b[0;36m__call__\u001b[0;34m(self, *input, **kwargs)\u001b[0m\n\u001b[1;32m    530\u001b[0m             \u001b[0mresult\u001b[0m \u001b[0;34m=\u001b[0m \u001b[0mself\u001b[0m\u001b[0;34m.\u001b[0m\u001b[0m_slow_forward\u001b[0m\u001b[0;34m(\u001b[0m\u001b[0;34m*\u001b[0m\u001b[0minput\u001b[0m\u001b[0;34m,\u001b[0m \u001b[0;34m**\u001b[0m\u001b[0mkwargs\u001b[0m\u001b[0;34m)\u001b[0m\u001b[0;34m\u001b[0m\u001b[0m\n\u001b[1;32m    531\u001b[0m         \u001b[0;32melse\u001b[0m\u001b[0;34m:\u001b[0m\u001b[0;34m\u001b[0m\u001b[0m\n\u001b[0;32m--> 532\u001b[0;31m             \u001b[0mresult\u001b[0m \u001b[0;34m=\u001b[0m \u001b[0mself\u001b[0m\u001b[0;34m.\u001b[0m\u001b[0mforward\u001b[0m\u001b[0;34m(\u001b[0m\u001b[0;34m*\u001b[0m\u001b[0minput\u001b[0m\u001b[0;34m,\u001b[0m \u001b[0;34m**\u001b[0m\u001b[0mkwargs\u001b[0m\u001b[0;34m)\u001b[0m\u001b[0;34m\u001b[0m\u001b[0m\n\u001b[0m\u001b[1;32m    533\u001b[0m         \u001b[0;32mfor\u001b[0m \u001b[0mhook\u001b[0m \u001b[0;32min\u001b[0m \u001b[0mself\u001b[0m\u001b[0;34m.\u001b[0m\u001b[0m_forward_hooks\u001b[0m\u001b[0;34m.\u001b[0m\u001b[0mvalues\u001b[0m\u001b[0;34m(\u001b[0m\u001b[0;34m)\u001b[0m\u001b[0;34m:\u001b[0m\u001b[0;34m\u001b[0m\u001b[0m\n\u001b[1;32m    534\u001b[0m             \u001b[0mhook_result\u001b[0m \u001b[0;34m=\u001b[0m \u001b[0mhook\u001b[0m\u001b[0;34m(\u001b[0m\u001b[0mself\u001b[0m\u001b[0;34m,\u001b[0m \u001b[0minput\u001b[0m\u001b[0;34m,\u001b[0m \u001b[0mresult\u001b[0m\u001b[0;34m)\u001b[0m\u001b[0;34m\u001b[0m\u001b[0m\n",
      "\u001b[0;32m~/anaconda3/envs/structuralPPI/lib/python3.6/site-packages/torch/nn/parallel/data_parallel.py\u001b[0m in \u001b[0;36mforward\u001b[0;34m(self, *inputs, **kwargs)\u001b[0m\n\u001b[1;32m    149\u001b[0m         \u001b[0;32mif\u001b[0m \u001b[0mlen\u001b[0m\u001b[0;34m(\u001b[0m\u001b[0mself\u001b[0m\u001b[0;34m.\u001b[0m\u001b[0mdevice_ids\u001b[0m\u001b[0;34m)\u001b[0m \u001b[0;34m==\u001b[0m \u001b[0;36m1\u001b[0m\u001b[0;34m:\u001b[0m\u001b[0;34m\u001b[0m\u001b[0m\n\u001b[1;32m    150\u001b[0m             \u001b[0;32mreturn\u001b[0m \u001b[0mself\u001b[0m\u001b[0;34m.\u001b[0m\u001b[0mmodule\u001b[0m\u001b[0;34m(\u001b[0m\u001b[0;34m*\u001b[0m\u001b[0minputs\u001b[0m\u001b[0;34m[\u001b[0m\u001b[0;36m0\u001b[0m\u001b[0;34m]\u001b[0m\u001b[0;34m,\u001b[0m \u001b[0;34m**\u001b[0m\u001b[0mkwargs\u001b[0m\u001b[0;34m[\u001b[0m\u001b[0;36m0\u001b[0m\u001b[0;34m]\u001b[0m\u001b[0;34m)\u001b[0m\u001b[0;34m\u001b[0m\u001b[0m\n\u001b[0;32m--> 151\u001b[0;31m         \u001b[0mreplicas\u001b[0m \u001b[0;34m=\u001b[0m \u001b[0mself\u001b[0m\u001b[0;34m.\u001b[0m\u001b[0mreplicate\u001b[0m\u001b[0;34m(\u001b[0m\u001b[0mself\u001b[0m\u001b[0;34m.\u001b[0m\u001b[0mmodule\u001b[0m\u001b[0;34m,\u001b[0m \u001b[0mself\u001b[0m\u001b[0;34m.\u001b[0m\u001b[0mdevice_ids\u001b[0m\u001b[0;34m[\u001b[0m\u001b[0;34m:\u001b[0m\u001b[0mlen\u001b[0m\u001b[0;34m(\u001b[0m\u001b[0minputs\u001b[0m\u001b[0;34m)\u001b[0m\u001b[0;34m]\u001b[0m\u001b[0;34m)\u001b[0m\u001b[0;34m\u001b[0m\u001b[0m\n\u001b[0m\u001b[1;32m    152\u001b[0m         \u001b[0moutputs\u001b[0m \u001b[0;34m=\u001b[0m \u001b[0mself\u001b[0m\u001b[0;34m.\u001b[0m\u001b[0mparallel_apply\u001b[0m\u001b[0;34m(\u001b[0m\u001b[0mreplicas\u001b[0m\u001b[0;34m,\u001b[0m \u001b[0minputs\u001b[0m\u001b[0;34m,\u001b[0m \u001b[0mkwargs\u001b[0m\u001b[0;34m)\u001b[0m\u001b[0;34m\u001b[0m\u001b[0m\n\u001b[1;32m    153\u001b[0m         \u001b[0;32mreturn\u001b[0m \u001b[0mself\u001b[0m\u001b[0;34m.\u001b[0m\u001b[0mgather\u001b[0m\u001b[0;34m(\u001b[0m\u001b[0moutputs\u001b[0m\u001b[0;34m,\u001b[0m \u001b[0mself\u001b[0m\u001b[0;34m.\u001b[0m\u001b[0moutput_device\u001b[0m\u001b[0;34m)\u001b[0m\u001b[0;34m\u001b[0m\u001b[0m\n",
      "\u001b[0;32m~/anaconda3/envs/structuralPPI/lib/python3.6/site-packages/torch/nn/parallel/data_parallel.py\u001b[0m in \u001b[0;36mreplicate\u001b[0;34m(self, module, device_ids)\u001b[0m\n\u001b[1;32m    154\u001b[0m \u001b[0;34m\u001b[0m\u001b[0m\n\u001b[1;32m    155\u001b[0m     \u001b[0;32mdef\u001b[0m \u001b[0mreplicate\u001b[0m\u001b[0;34m(\u001b[0m\u001b[0mself\u001b[0m\u001b[0;34m,\u001b[0m \u001b[0mmodule\u001b[0m\u001b[0;34m,\u001b[0m \u001b[0mdevice_ids\u001b[0m\u001b[0;34m)\u001b[0m\u001b[0;34m:\u001b[0m\u001b[0;34m\u001b[0m\u001b[0m\n\u001b[0;32m--> 156\u001b[0;31m         \u001b[0;32mreturn\u001b[0m \u001b[0mreplicate\u001b[0m\u001b[0;34m(\u001b[0m\u001b[0mmodule\u001b[0m\u001b[0;34m,\u001b[0m \u001b[0mdevice_ids\u001b[0m\u001b[0;34m,\u001b[0m \u001b[0;32mnot\u001b[0m \u001b[0mtorch\u001b[0m\u001b[0;34m.\u001b[0m\u001b[0mis_grad_enabled\u001b[0m\u001b[0;34m(\u001b[0m\u001b[0;34m)\u001b[0m\u001b[0;34m)\u001b[0m\u001b[0;34m\u001b[0m\u001b[0m\n\u001b[0m\u001b[1;32m    157\u001b[0m \u001b[0;34m\u001b[0m\u001b[0m\n\u001b[1;32m    158\u001b[0m     \u001b[0;32mdef\u001b[0m \u001b[0mscatter\u001b[0m\u001b[0;34m(\u001b[0m\u001b[0mself\u001b[0m\u001b[0;34m,\u001b[0m \u001b[0minputs\u001b[0m\u001b[0;34m,\u001b[0m \u001b[0mkwargs\u001b[0m\u001b[0;34m,\u001b[0m \u001b[0mdevice_ids\u001b[0m\u001b[0;34m)\u001b[0m\u001b[0;34m:\u001b[0m\u001b[0;34m\u001b[0m\u001b[0m\n",
      "\u001b[0;32m~/anaconda3/envs/structuralPPI/lib/python3.6/site-packages/torch/nn/parallel/replicate.py\u001b[0m in \u001b[0;36mreplicate\u001b[0;34m(network, devices, detach)\u001b[0m\n\u001b[1;32m     86\u001b[0m     \u001b[0mparams\u001b[0m \u001b[0;34m=\u001b[0m \u001b[0mlist\u001b[0m\u001b[0;34m(\u001b[0m\u001b[0mnetwork\u001b[0m\u001b[0;34m.\u001b[0m\u001b[0mparameters\u001b[0m\u001b[0;34m(\u001b[0m\u001b[0;34m)\u001b[0m\u001b[0;34m)\u001b[0m\u001b[0;34m\u001b[0m\u001b[0m\n\u001b[1;32m     87\u001b[0m     \u001b[0mparam_indices\u001b[0m \u001b[0;34m=\u001b[0m \u001b[0;34m{\u001b[0m\u001b[0mparam\u001b[0m\u001b[0;34m:\u001b[0m \u001b[0midx\u001b[0m \u001b[0;32mfor\u001b[0m \u001b[0midx\u001b[0m\u001b[0;34m,\u001b[0m \u001b[0mparam\u001b[0m \u001b[0;32min\u001b[0m \u001b[0menumerate\u001b[0m\u001b[0;34m(\u001b[0m\u001b[0mparams\u001b[0m\u001b[0;34m)\u001b[0m\u001b[0;34m}\u001b[0m\u001b[0;34m\u001b[0m\u001b[0m\n\u001b[0;32m---> 88\u001b[0;31m     \u001b[0mparam_copies\u001b[0m \u001b[0;34m=\u001b[0m \u001b[0m_broadcast_coalesced_reshape\u001b[0m\u001b[0;34m(\u001b[0m\u001b[0mparams\u001b[0m\u001b[0;34m,\u001b[0m \u001b[0mdevices\u001b[0m\u001b[0;34m,\u001b[0m \u001b[0mdetach\u001b[0m\u001b[0;34m)\u001b[0m\u001b[0;34m\u001b[0m\u001b[0m\n\u001b[0m\u001b[1;32m     89\u001b[0m \u001b[0;34m\u001b[0m\u001b[0m\n\u001b[1;32m     90\u001b[0m     \u001b[0mbuffers\u001b[0m \u001b[0;34m=\u001b[0m \u001b[0mlist\u001b[0m\u001b[0;34m(\u001b[0m\u001b[0mnetwork\u001b[0m\u001b[0;34m.\u001b[0m\u001b[0mbuffers\u001b[0m\u001b[0;34m(\u001b[0m\u001b[0;34m)\u001b[0m\u001b[0;34m)\u001b[0m\u001b[0;34m\u001b[0m\u001b[0m\n",
      "\u001b[0;32m~/anaconda3/envs/structuralPPI/lib/python3.6/site-packages/torch/nn/parallel/replicate.py\u001b[0m in \u001b[0;36m_broadcast_coalesced_reshape\u001b[0;34m(tensors, devices, detach)\u001b[0m\n\u001b[1;32m     69\u001b[0m         \u001b[0;31m# Use the autograd function to broadcast if not detach\u001b[0m\u001b[0;34m\u001b[0m\u001b[0;34m\u001b[0m\u001b[0m\n\u001b[1;32m     70\u001b[0m         \u001b[0;32mif\u001b[0m \u001b[0mlen\u001b[0m\u001b[0;34m(\u001b[0m\u001b[0mtensors\u001b[0m\u001b[0;34m)\u001b[0m \u001b[0;34m>\u001b[0m \u001b[0;36m0\u001b[0m\u001b[0;34m:\u001b[0m\u001b[0;34m\u001b[0m\u001b[0m\n\u001b[0;32m---> 71\u001b[0;31m             \u001b[0mtensor_copies\u001b[0m \u001b[0;34m=\u001b[0m \u001b[0mBroadcast\u001b[0m\u001b[0;34m.\u001b[0m\u001b[0mapply\u001b[0m\u001b[0;34m(\u001b[0m\u001b[0mdevices\u001b[0m\u001b[0;34m,\u001b[0m \u001b[0;34m*\u001b[0m\u001b[0mtensors\u001b[0m\u001b[0;34m)\u001b[0m\u001b[0;34m\u001b[0m\u001b[0m\n\u001b[0m\u001b[1;32m     72\u001b[0m             return [tensor_copies[i:i + len(tensors)]\n\u001b[1;32m     73\u001b[0m                     for i in range(0, len(tensor_copies), len(tensors))]\n",
      "\u001b[0;32m~/anaconda3/envs/structuralPPI/lib/python3.6/site-packages/torch/nn/parallel/_functions.py\u001b[0m in \u001b[0;36mforward\u001b[0;34m(ctx, target_gpus, *inputs)\u001b[0m\n\u001b[1;32m     19\u001b[0m         \u001b[0mctx\u001b[0m\u001b[0;34m.\u001b[0m\u001b[0mnum_inputs\u001b[0m \u001b[0;34m=\u001b[0m \u001b[0mlen\u001b[0m\u001b[0;34m(\u001b[0m\u001b[0minputs\u001b[0m\u001b[0;34m)\u001b[0m\u001b[0;34m\u001b[0m\u001b[0m\n\u001b[1;32m     20\u001b[0m         \u001b[0mctx\u001b[0m\u001b[0;34m.\u001b[0m\u001b[0minput_device\u001b[0m \u001b[0;34m=\u001b[0m \u001b[0minputs\u001b[0m\u001b[0;34m[\u001b[0m\u001b[0;36m0\u001b[0m\u001b[0;34m]\u001b[0m\u001b[0;34m.\u001b[0m\u001b[0mget_device\u001b[0m\u001b[0;34m(\u001b[0m\u001b[0;34m)\u001b[0m\u001b[0;34m\u001b[0m\u001b[0m\n\u001b[0;32m---> 21\u001b[0;31m         \u001b[0moutputs\u001b[0m \u001b[0;34m=\u001b[0m \u001b[0mcomm\u001b[0m\u001b[0;34m.\u001b[0m\u001b[0mbroadcast_coalesced\u001b[0m\u001b[0;34m(\u001b[0m\u001b[0minputs\u001b[0m\u001b[0;34m,\u001b[0m \u001b[0mctx\u001b[0m\u001b[0;34m.\u001b[0m\u001b[0mtarget_gpus\u001b[0m\u001b[0;34m)\u001b[0m\u001b[0;34m\u001b[0m\u001b[0m\n\u001b[0m\u001b[1;32m     22\u001b[0m         \u001b[0mnon_differentiables\u001b[0m \u001b[0;34m=\u001b[0m \u001b[0;34m[\u001b[0m\u001b[0;34m]\u001b[0m\u001b[0;34m\u001b[0m\u001b[0m\n\u001b[1;32m     23\u001b[0m         \u001b[0;32mfor\u001b[0m \u001b[0midx\u001b[0m\u001b[0;34m,\u001b[0m \u001b[0minput_requires_grad\u001b[0m \u001b[0;32min\u001b[0m \u001b[0menumerate\u001b[0m\u001b[0;34m(\u001b[0m\u001b[0mctx\u001b[0m\u001b[0;34m.\u001b[0m\u001b[0mneeds_input_grad\u001b[0m\u001b[0;34m[\u001b[0m\u001b[0;36m1\u001b[0m\u001b[0;34m:\u001b[0m\u001b[0;34m]\u001b[0m\u001b[0;34m)\u001b[0m\u001b[0;34m:\u001b[0m\u001b[0;34m\u001b[0m\u001b[0m\n",
      "\u001b[0;32m~/anaconda3/envs/structuralPPI/lib/python3.6/site-packages/torch/cuda/comm.py\u001b[0m in \u001b[0;36mbroadcast_coalesced\u001b[0;34m(tensors, devices, buffer_size)\u001b[0m\n\u001b[1;32m     37\u001b[0m         \u001b[0mcorresponding\u001b[0m \u001b[0mto\u001b[0m \u001b[0mindices\u001b[0m \u001b[0;32mfrom\u001b[0m\u001b[0;31m \u001b[0m\u001b[0;31m`\u001b[0m\u001b[0;31m`\u001b[0m\u001b[0mdevices\u001b[0m\u001b[0;31m`\u001b[0m\u001b[0;31m`\u001b[0m\u001b[0;34m.\u001b[0m\u001b[0;34m\u001b[0m\u001b[0m\n\u001b[1;32m     38\u001b[0m     \"\"\"\n\u001b[0;32m---> 39\u001b[0;31m     \u001b[0;32mreturn\u001b[0m \u001b[0mtorch\u001b[0m\u001b[0;34m.\u001b[0m\u001b[0m_C\u001b[0m\u001b[0;34m.\u001b[0m\u001b[0m_broadcast_coalesced\u001b[0m\u001b[0;34m(\u001b[0m\u001b[0mtensors\u001b[0m\u001b[0;34m,\u001b[0m \u001b[0mdevices\u001b[0m\u001b[0;34m,\u001b[0m \u001b[0mbuffer_size\u001b[0m\u001b[0;34m)\u001b[0m\u001b[0;34m\u001b[0m\u001b[0m\n\u001b[0m\u001b[1;32m     40\u001b[0m \u001b[0;34m\u001b[0m\u001b[0m\n\u001b[1;32m     41\u001b[0m \u001b[0;34m\u001b[0m\u001b[0m\n",
      "\u001b[0;31mRuntimeError\u001b[0m: NCCL Error 2: unhandled system error"
     ]
    }
   ],
   "source": [
    "createReps2(fragoza_seqs)"
   ]
  },
  {
   "cell_type": "code",
   "execution_count": null,
   "metadata": {},
   "outputs": [],
   "source": []
  }
 ],
 "metadata": {
  "kernelspec": {
   "display_name": "Environment (conda_structuralppi)",
   "language": "python",
   "name": "conda_structuralppi"
  },
  "language_info": {
   "codemirror_mode": {
    "name": "ipython",
    "version": 3
   },
   "file_extension": ".py",
   "mimetype": "text/x-python",
   "name": "python",
   "nbconvert_exporter": "python",
   "pygments_lexer": "ipython3",
   "version": "3.6.6"
  }
 },
 "nbformat": 4,
 "nbformat_minor": 2
}
