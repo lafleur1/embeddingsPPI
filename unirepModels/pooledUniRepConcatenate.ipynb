{
 "cells": [
  {
   "cell_type": "code",
   "execution_count": 1,
   "metadata": {},
   "outputs": [
    {
     "name": "stderr",
     "output_type": "stream",
     "text": [
      "Using TensorFlow backend.\n"
     ]
    },
    {
     "name": "stdout",
     "output_type": "stream",
     "text": [
      "WARNING:tensorflow:From /home/ubuntu/anaconda3/envs/structuralPPI/lib/python3.6/site-packages/tensorflow_core/__init__.py:1467: The name tf.estimator.inputs is deprecated. Please use tf.compat.v1.estimator.inputs instead.\n",
      "\n"
     ]
    }
   ],
   "source": [
    "#bert embedding models \n",
    "#using random sample dataset \n",
    "\n",
    "from math import ceil\n",
    "\n",
    "from __future__ import print_function\n",
    "import keras\n",
    "from keras.models import Sequential, Model, load_model\n",
    "from keras.layers import Dense, Dropout, Activation, Flatten, Input, Lambda\n",
    "from keras.layers import Conv1D, MaxPooling1D, Conv2D, MaxPooling2D, LSTM, GRU, Masking, TimeDistributed, BatchNormalization\n",
    "from keras.layers import Concatenate, Reshape, Bidirectional, Softmax, LocallyConnected1D\n",
    "from keras.callbacks import ModelCheckpoint, EarlyStopping\n",
    "from keras import regularizers\n",
    "from keras import backend as K\n",
    "import keras.losses\n",
    "from keras.utils import plot_model\n",
    "import tensorflow as tf\n",
    "\n",
    "import pandas as pd\n",
    "\n",
    "import math\n",
    "\n",
    "import os\n",
    "import pickle\n",
    "import numpy as np\n",
    "\n",
    "import scipy.sparse as sp\n",
    "import scipy.io as spio\n",
    "\n",
    "import matplotlib.pyplot as plt\n",
    "import matplotlib.cm as cm\n",
    "\n",
    "\n",
    "from contextlib import redirect_stdout\n",
    "\n",
    "import pickle\n",
    "from sklearn.utils import shuffle"
   ]
  },
  {
   "cell_type": "code",
   "execution_count": 2,
   "metadata": {},
   "outputs": [],
   "source": [
    "#simple concantenation model (concatenates inputs)\n",
    "def simple_concatenation_model(layer1Size, layer2Size):\n",
    "    #Inputs\n",
    "    res_1 = Input(shape=(3800,))\n",
    "    res_2 = Input(shape=(3800,))\n",
    "\n",
    "    #Outputs\n",
    "    true_interacts = Input(shape=(1,))\n",
    "    \n",
    "    #layers \n",
    "    layer_dense_pair_1 = Dense(layer1Size, activation='relu')\n",
    "    layer_dense_pair_2 = Dense(layer2Size, activation = 'relu')\n",
    "    pred_layer = Dense(1, activation='sigmoid', kernel_initializer='zeros')\n",
    "    \n",
    "    #network\n",
    "    dense_out_pair1 = layer_dense_pair_1(Concatenate(axis=-1)([res_1, res_2])) #concatenate two sequences \n",
    "    dense_out_pair2 = layer_dense_pair_2(dense_out_pair1)\n",
    "    pred_interacts = pred_layer(dense_out_pair2)\n",
    "\n",
    "    interaction_model = Model(\n",
    "        inputs=[\n",
    "            res_1,\n",
    "            res_2\n",
    "        ],\n",
    "        outputs=pred_interacts\n",
    "    )\n",
    "    interaction_loss = Lambda(sigmoid_nll, output_shape = (1,))([true_interacts, pred_interacts])\n",
    "\n",
    "    loss_model = Model(\n",
    "        [\n",
    "            res_1,\n",
    "            res_2,\n",
    "            true_interacts\n",
    "        ],\n",
    "        interaction_loss\n",
    "    )\n",
    "    return interaction_model, loss_model\n",
    "\n",
    "\n",
    "\n",
    "def sigmoid_nll(inputs) :\n",
    "    y_true, y_pred = inputs\n",
    "    y_pred = K.clip(y_pred, K.epsilon(), 1.0 - K.epsilon())\n",
    "    return K.mean(-y_true * K.log(y_pred) - (1.0 - y_true) * K.log(1.0 - y_pred), axis=-1)\n",
    "\n",
    "\n",
    "def mean_squared_error(inputs) :\n",
    "    y_true, y_pred = inputs\n",
    "    return K.mean(K.square(y_pred - y_true), axis=-1)\n",
    "\n",
    "def mean_absolute_error(inputs) :\n",
    "    y_true, y_pred = inputs\n",
    "    return K.mean(K.abs(y_pred - y_true), axis=-1)\n",
    "\n",
    "def logcosh(inputs) :\n",
    "    y_true, y_pred = inputs\n",
    "    def _logcosh(x):\n",
    "        return x + K.softplus(-2. * x) - K.log(2.)\n",
    "    return K.mean(_logcosh(y_pred - y_true), axis=-1)"
   ]
  },
  {
   "cell_type": "code",
   "execution_count": 3,
   "metadata": {},
   "outputs": [],
   "source": [
    "#set up generators - must open the correct npy files and return them from the bert_folder \n",
    "\n",
    "def setupDataframesForGenerators(data):\n",
    "    #break up by train/valid/test splits already outlined in DF \n",
    "    train = data[data['Dataset'] == 'Train'].copy().reset_index(drop = True)\n",
    "    valid = data[data['Dataset'] == 'Valid'].copy().reset_index(drop = True)\n",
    "    test = data[data['Dataset'] == 'Test'].copy().reset_index(drop = True)\n",
    "    return train, valid, test\n",
    "\n",
    "def GeneratorFromDFUniRep(dataframe, typeData, batch_size = 32, shuffle_data = True):\n",
    "    #keras sequence generators is being a pain- making own custom generators  \n",
    "    arrays = np.load('../unirep_embeddings/ppiDB.npz', allow_pickle=True)\n",
    "    while True:\n",
    "        dataframe = dataframe.sample(frac=1).reset_index(drop = True) #shuffle the rows of the dataframe\n",
    "        for offset in range(0, dataframe.shape[0], batch_size):\n",
    "            dfSlice = dataframe.iloc[offset:offset+batch_size]\n",
    "            seq1 = dfSlice['1'].to_list()\n",
    "            seq2 = dfSlice['2'].to_list()\n",
    "            labels = dfSlice.Interacts.to_list()\n",
    "            x_1 = []\n",
    "            x_2 = []\n",
    "            x_3 = []\n",
    "            Y = []\n",
    "            for i in range(0, len(seq1)):\n",
    "                #tupleToLoad = tuples[i].split(\",\")\n",
    "                #loadForward = np.load(folder + str(seq1[i]) + \".npy\").flatten()\n",
    "                a = arrays[str(seq1[i])].item()[typeData]\n",
    "                #loadedBackwards = np.load(folder + str(seq2[i]) + \".npy\").flatten()\n",
    "                b = arrays[str(seq2[i])].item()[typeData]\n",
    "                x_1.append(a)\n",
    "                x_2.append(b)\n",
    "                x_3.append(labels[i])\n",
    "            x_1 = np.array(x_1)\n",
    "            x_2 = np.array(x_2)\n",
    "            x_3 = np.array(x_3)\n",
    "            yield [x_1, x_2, x_3], x_3"
   ]
  },
  {
   "cell_type": "code",
   "execution_count": 4,
   "metadata": {},
   "outputs": [
    {
     "name": "stdout",
     "output_type": "stream",
     "text": [
      "train size:  (458282, 5)\n",
      "valid size:  (50736, 5)\n",
      "test size:  (50732, 5)\n",
      "Index(['Unnamed: 0', '1', '2', 'Interacts', 'Dataset'], dtype='object')\n"
     ]
    }
   ],
   "source": [
    "#set up datsets\n",
    "totalSet = pd.read_csv(\"randomBreakup.csv\")\n",
    "train, valid, test = setupDataframesForGenerators(totalSet)\n",
    "print ('train size: ', train.shape)\n",
    "print (\"valid size: \", valid.shape)\n",
    "print (\"test size: \", test.shape)\n",
    "print (totalSet.columns) #Index(['Unnamed: 0', '1', '2', 'Interacts', 'Type', 'Dataset'], dtype='object')"
   ]
  },
  {
   "cell_type": "code",
   "execution_count": 5,
   "metadata": {},
   "outputs": [],
   "source": [
    "#set up generators \n",
    "trainGenerator = GeneratorFromDFUniRep(train,'pooled')\n",
    "validationGenerator = GeneratorFromDFUniRep(valid,  'pooled')"
   ]
  },
  {
   "cell_type": "code",
   "execution_count": 6,
   "metadata": {},
   "outputs": [],
   "source": [
    "#set up keras callbacks, adam, etc. \n",
    "def trainEvalAndSaveModel(model_name, size1, size2,lr = 0.001, epochs = 3):\n",
    "    opt = keras.optimizers.Adam(lr, beta_1=0.9, beta_2=0.999)\n",
    "    callbacks =[EarlyStopping(monitor='val_loss', min_delta=0.001, patience=3, verbose=0, mode='auto')]\n",
    "    iModel, loss_model = simple_concatenation_model(size1,size2)\n",
    "    loss_model.compile(loss=lambda true, pred: pred, optimizer=opt, metrics = ['accuracy'])\n",
    "    trainSteps = ceil(train.shape[0] / 32)\n",
    "    validationSteps = ceil(valid.shape[0] / 32)\n",
    "    print (\"trianing steps: \", ceil(train.shape[0] / 32))\n",
    "    print (\"validation steps: \", ceil(valid.shape[0] / 32))\n",
    "\n",
    "    history = loss_model.fit_generator(generator=trainGenerator, steps_per_epoch = trainSteps, \n",
    "                        validation_data=validationGenerator,validation_steps = validationSteps,\n",
    "                        epochs=epochs,\n",
    "                        use_multiprocessing=False,\n",
    "                        workers=1, callbacks=callbacks)\n",
    "    \n",
    "    \n",
    "    # summarize history for accuracy\n",
    "    plt.plot(history.history['acc'])\n",
    "    plt.plot(history.history['val_acc'])\n",
    "    plt.title('model accuracy')\n",
    "    plt.ylabel('accuracy')\n",
    "    plt.xlabel('epoch')\n",
    "    plt.legend(['train', 'validation'], loc='upper left')\n",
    "    plt.show()\n",
    "    # summarize history for loss\n",
    "    plt.plot(history.history['loss'])\n",
    "    plt.plot(history.history['val_loss'])\n",
    "    plt.title('model loss')\n",
    "    plt.ylabel('loss')\n",
    "    plt.xlabel('epoch')\n",
    "    plt.legend(['train', 'validation'], loc='upper left')\n",
    "    plt.show()\n",
    "    #save model to folder\n",
    "    # Save model and weights\n",
    "    \n",
    "    save_dir = 'saved_models'\n",
    "    \n",
    "    if not os.path.isdir(save_dir):\n",
    "        os.makedirs(save_dir)\n",
    "\n",
    "    model_path = os.path.join(save_dir, model_name + '.h5')\n",
    "    history_path =  os.path.join(save_dir, model_name + \"_history.csv\")\n",
    "\n",
    "    iModel.save(model_path)\n",
    "    print('Saved scrambler model at %s ' % (model_path))\n",
    "    \n",
    "    #save history to csv \n",
    "    historyDF = pd.DataFrame(history.history)\n",
    "    historyDF.to_csv(history_path)\n",
    "\n",
    "\n"
   ]
  },
  {
   "cell_type": "code",
   "execution_count": 7,
   "metadata": {},
   "outputs": [
    {
     "name": "stdout",
     "output_type": "stream",
     "text": [
      "WARNING:tensorflow:From /home/ubuntu/anaconda3/envs/structuralPPI/lib/python3.6/site-packages/keras/backend/tensorflow_backend.py:74: The name tf.get_default_graph is deprecated. Please use tf.compat.v1.get_default_graph instead.\n",
      "\n",
      "WARNING:tensorflow:From /home/ubuntu/anaconda3/envs/structuralPPI/lib/python3.6/site-packages/keras/backend/tensorflow_backend.py:517: The name tf.placeholder is deprecated. Please use tf.compat.v1.placeholder instead.\n",
      "\n",
      "WARNING:tensorflow:From /home/ubuntu/anaconda3/envs/structuralPPI/lib/python3.6/site-packages/keras/backend/tensorflow_backend.py:4138: The name tf.random_uniform is deprecated. Please use tf.random.uniform instead.\n",
      "\n",
      "WARNING:tensorflow:From /home/ubuntu/anaconda3/envs/structuralPPI/lib/python3.6/site-packages/keras/backend/tensorflow_backend.py:1521: The name tf.log is deprecated. Please use tf.math.log instead.\n",
      "\n",
      "WARNING:tensorflow:From /home/ubuntu/anaconda3/envs/structuralPPI/lib/python3.6/site-packages/keras/optimizers.py:790: The name tf.train.Optimizer is deprecated. Please use tf.compat.v1.train.Optimizer instead.\n",
      "\n",
      "trianing steps:  14322\n",
      "validation steps:  1586\n",
      "WARNING:tensorflow:From /home/ubuntu/anaconda3/envs/structuralPPI/lib/python3.6/site-packages/tensorflow_core/python/ops/math_grad.py:1424: where (from tensorflow.python.ops.array_ops) is deprecated and will be removed in a future version.\n",
      "Instructions for updating:\n",
      "Use tf.where in 2.0, which has the same broadcast rule as np.where\n",
      "WARNING:tensorflow:From /home/ubuntu/anaconda3/envs/structuralPPI/lib/python3.6/site-packages/keras/backend/tensorflow_backend.py:986: The name tf.assign_add is deprecated. Please use tf.compat.v1.assign_add instead.\n",
      "\n",
      "WARNING:tensorflow:From /home/ubuntu/anaconda3/envs/structuralPPI/lib/python3.6/site-packages/keras/backend/tensorflow_backend.py:973: The name tf.assign is deprecated. Please use tf.compat.v1.assign instead.\n",
      "\n",
      "WARNING:tensorflow:From /home/ubuntu/anaconda3/envs/structuralPPI/lib/python3.6/site-packages/keras/backend/tensorflow_backend.py:2741: The name tf.Session is deprecated. Please use tf.compat.v1.Session instead.\n",
      "\n",
      "Epoch 1/3\n",
      "WARNING:tensorflow:From /home/ubuntu/anaconda3/envs/structuralPPI/lib/python3.6/site-packages/keras/backend/tensorflow_backend.py:174: The name tf.get_default_session is deprecated. Please use tf.compat.v1.get_default_session instead.\n",
      "\n",
      "WARNING:tensorflow:From /home/ubuntu/anaconda3/envs/structuralPPI/lib/python3.6/site-packages/keras/backend/tensorflow_backend.py:181: The name tf.ConfigProto is deprecated. Please use tf.compat.v1.ConfigProto instead.\n",
      "\n",
      "WARNING:tensorflow:From /home/ubuntu/anaconda3/envs/structuralPPI/lib/python3.6/site-packages/keras/backend/tensorflow_backend.py:190: The name tf.global_variables is deprecated. Please use tf.compat.v1.global_variables instead.\n",
      "\n",
      "WARNING:tensorflow:From /home/ubuntu/anaconda3/envs/structuralPPI/lib/python3.6/site-packages/keras/backend/tensorflow_backend.py:199: The name tf.is_variable_initialized is deprecated. Please use tf.compat.v1.is_variable_initialized instead.\n",
      "\n",
      "WARNING:tensorflow:From /home/ubuntu/anaconda3/envs/structuralPPI/lib/python3.6/site-packages/keras/backend/tensorflow_backend.py:206: The name tf.variables_initializer is deprecated. Please use tf.compat.v1.variables_initializer instead.\n",
      "\n",
      "14322/14322 [==============================] - 1076s 75ms/step - loss: 0.5710 - acc: 0.4815 - val_loss: 0.5321 - val_acc: 0.4727\n",
      "Epoch 2/3\n",
      "14322/14322 [==============================] - 1075s 75ms/step - loss: 0.5113 - acc: 0.4762 - val_loss: 0.5049 - val_acc: 0.4740\n",
      "Epoch 3/3\n",
      "14322/14322 [==============================] - 1078s 75ms/step - loss: 0.4810 - acc: 0.4746 - val_loss: 0.4643 - val_acc: 0.4768\n"
     ]
    },
    {
     "data": {
      "image/png": "[encoded data removed]",
      "text/plain": [
       "<Figure size 432x288 with 1 Axes>"
      ]
     },
     "metadata": {},
     "output_type": "display_data"
    },
    {
     "data": {
      "image/png": "[encoded data removed]",
      "text/plain": [
       "<Figure size 432x288 with 1 Axes>"
      ]
     },
     "metadata": {},
     "output_type": "display_data"
    },
    {
     "name": "stdout",
     "output_type": "stream",
     "text": [
      "Saved scrambler model at saved_models/rs_300_100_lr_001_pooled.h5 \n"
     ]
    }
   ],
   "source": [
    "combos = [(\"rs_300_100_lr_001_pooled\", 300, 100, 0.001)]\n",
    "\n",
    "for combo in combos:\n",
    "    trainEvalAndSaveModel(combo[0], combo[1], combo[2],  combo[3])"
   ]
  },
  {
   "cell_type": "code",
   "execution_count": 7,
   "metadata": {},
   "outputs": [
    {
     "name": "stdout",
     "output_type": "stream",
     "text": [
      "train size:  (458282, 6)\n",
      "valid size:  (50732, 6)\n",
      "test size:  (50737, 6)\n",
      "Index(['Unnamed: 0', '1', '2', 'Interacts', 'Type', 'Dataset'], dtype='object')\n"
     ]
    }
   ],
   "source": [
    "#set up datsets\n",
    "totalSet = pd.read_csv(\"halfFragozaTestSet.csv\")\n",
    "train, valid, test = setupDataframesForGenerators(totalSet)\n",
    "print ('train size: ', train.shape)\n",
    "print (\"valid size: \", valid.shape)\n",
    "print (\"test size: \", test.shape)\n",
    "print (totalSet.columns) #Index(['Unnamed: 0', '1', '2', 'Interacts', 'Type', 'Dataset'], dtype='object')"
   ]
  },
  {
   "cell_type": "code",
   "execution_count": 8,
   "metadata": {},
   "outputs": [],
   "source": [
    "#set up generators \n",
    "trainGenerator = GeneratorFromDFUniRep(train,'pooled')\n",
    "validationGenerator = GeneratorFromDFUniRep(valid,  'pooled')"
   ]
  },
  {
   "cell_type": "code",
   "execution_count": 9,
   "metadata": {
    "scrolled": true
   },
   "outputs": [
    {
     "name": "stdout",
     "output_type": "stream",
     "text": [
      "WARNING:tensorflow:From /home/ubuntu/anaconda3/envs/structuralPPI/lib/python3.6/site-packages/keras/backend/tensorflow_backend.py:74: The name tf.get_default_graph is deprecated. Please use tf.compat.v1.get_default_graph instead.\n",
      "\n",
      "WARNING:tensorflow:From /home/ubuntu/anaconda3/envs/structuralPPI/lib/python3.6/site-packages/keras/backend/tensorflow_backend.py:517: The name tf.placeholder is deprecated. Please use tf.compat.v1.placeholder instead.\n",
      "\n",
      "WARNING:tensorflow:From /home/ubuntu/anaconda3/envs/structuralPPI/lib/python3.6/site-packages/keras/backend/tensorflow_backend.py:4138: The name tf.random_uniform is deprecated. Please use tf.random.uniform instead.\n",
      "\n",
      "WARNING:tensorflow:From /home/ubuntu/anaconda3/envs/structuralPPI/lib/python3.6/site-packages/keras/backend/tensorflow_backend.py:1521: The name tf.log is deprecated. Please use tf.math.log instead.\n",
      "\n",
      "WARNING:tensorflow:From /home/ubuntu/anaconda3/envs/structuralPPI/lib/python3.6/site-packages/keras/optimizers.py:790: The name tf.train.Optimizer is deprecated. Please use tf.compat.v1.train.Optimizer instead.\n",
      "\n",
      "trianing steps:  14322\n",
      "validation steps:  1586\n",
      "WARNING:tensorflow:From /home/ubuntu/anaconda3/envs/structuralPPI/lib/python3.6/site-packages/tensorflow_core/python/ops/math_grad.py:1424: where (from tensorflow.python.ops.array_ops) is deprecated and will be removed in a future version.\n",
      "Instructions for updating:\n",
      "Use tf.where in 2.0, which has the same broadcast rule as np.where\n",
      "WARNING:tensorflow:From /home/ubuntu/anaconda3/envs/structuralPPI/lib/python3.6/site-packages/keras/backend/tensorflow_backend.py:986: The name tf.assign_add is deprecated. Please use tf.compat.v1.assign_add instead.\n",
      "\n",
      "WARNING:tensorflow:From /home/ubuntu/anaconda3/envs/structuralPPI/lib/python3.6/site-packages/keras/backend/tensorflow_backend.py:973: The name tf.assign is deprecated. Please use tf.compat.v1.assign instead.\n",
      "\n",
      "WARNING:tensorflow:From /home/ubuntu/anaconda3/envs/structuralPPI/lib/python3.6/site-packages/keras/backend/tensorflow_backend.py:2741: The name tf.Session is deprecated. Please use tf.compat.v1.Session instead.\n",
      "\n",
      "Epoch 1/3\n",
      "WARNING:tensorflow:From /home/ubuntu/anaconda3/envs/structuralPPI/lib/python3.6/site-packages/keras/backend/tensorflow_backend.py:174: The name tf.get_default_session is deprecated. Please use tf.compat.v1.get_default_session instead.\n",
      "\n",
      "WARNING:tensorflow:From /home/ubuntu/anaconda3/envs/structuralPPI/lib/python3.6/site-packages/keras/backend/tensorflow_backend.py:181: The name tf.ConfigProto is deprecated. Please use tf.compat.v1.ConfigProto instead.\n",
      "\n",
      "WARNING:tensorflow:From /home/ubuntu/anaconda3/envs/structuralPPI/lib/python3.6/site-packages/keras/backend/tensorflow_backend.py:190: The name tf.global_variables is deprecated. Please use tf.compat.v1.global_variables instead.\n",
      "\n",
      "WARNING:tensorflow:From /home/ubuntu/anaconda3/envs/structuralPPI/lib/python3.6/site-packages/keras/backend/tensorflow_backend.py:199: The name tf.is_variable_initialized is deprecated. Please use tf.compat.v1.is_variable_initialized instead.\n",
      "\n",
      "WARNING:tensorflow:From /home/ubuntu/anaconda3/envs/structuralPPI/lib/python3.6/site-packages/keras/backend/tensorflow_backend.py:206: The name tf.variables_initializer is deprecated. Please use tf.compat.v1.variables_initializer instead.\n",
      "\n",
      "14322/14322 [==============================] - 1077s 75ms/step - loss: 0.5561 - acc: 0.4759 - val_loss: 0.7224 - val_acc: 0.4435\n",
      "Epoch 2/3\n",
      "14322/14322 [==============================] - 1078s 75ms/step - loss: 0.4887 - acc: 0.4673 - val_loss: 0.6090 - val_acc: 0.4507\n",
      "Epoch 3/3\n",
      "14322/14322 [==============================] - 1076s 75ms/step - loss: 0.4541 - acc: 0.4649 - val_loss: 0.7143 - val_acc: 0.3961\n"
     ]
    },
    {
     "data": {
      "image/png": "[encoded data removed]",
      "text/plain": [
       "<Figure size 432x288 with 1 Axes>"
      ]
     },
     "metadata": {},
     "output_type": "display_data"
    },
    {
     "data": {
      "image/png": "[encoded data removed]",
      "text/plain": [
       "<Figure size 432x288 with 1 Axes>"
      ]
     },
     "metadata": {},
     "output_type": "display_data"
    },
    {
     "name": "stdout",
     "output_type": "stream",
     "text": [
      "Saved scrambler model at saved_models/concatenate_fs_300_100_lr_001_pooled.h5 \n"
     ]
    }
   ],
   "source": [
    "combos = [(\"concatenate_fs_300_100_lr_001_pooled\", 300, 100, 0.001)]\n",
    "\n",
    "for combo in combos:\n",
    "    trainEvalAndSaveModel(combo[0], combo[1], combo[2],  combo[3])"
   ]
  },
  {
   "cell_type": "code",
   "execution_count": null,
   "metadata": {},
   "outputs": [],
   "source": []
  }
 ],
 "metadata": {
  "kernelspec": {
   "display_name": "Environment (conda_structuralppi)",
   "language": "python",
   "name": "conda_structuralppi"
  },
  "language_info": {
   "codemirror_mode": {
    "name": "ipython",
    "version": 3
   },
   "file_extension": ".py",
   "mimetype": "text/x-python",
   "name": "python",
   "nbconvert_exporter": "python",
   "pygments_lexer": "ipython3",
   "version": "3.6.6"
  }
 },
 "nbformat": 4,
 "nbformat_minor": 2
}
